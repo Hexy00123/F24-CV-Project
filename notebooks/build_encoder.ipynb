{
 "cells": [
  {
   "cell_type": "code",
   "execution_count": 1,
   "metadata": {},
   "outputs": [],
   "source": [
    "import sys\n",
    "import os\n",
    "\n",
    "sys.path.append(os.path.join(os.getcwd(), \"..\"))\n",
    "\n",
    "\n",
    "import torch\n",
    "import torch.nn as nn\n",
    "import torchinfo\n",
    "\n",
    "from vision_transformer.EncoderBlock import EncoderBlock\n",
    "from vision_transformer.Encoder import Encoder\n",
    "\n",
    "from vision_transformer.MultiHeadAttn import MultiHeadAttention\n",
    "from vision_transformer.FeedForwardBlock import FeedForwardBlock"
   ]
  },
  {
   "cell_type": "code",
   "execution_count": 2,
   "metadata": {},
   "outputs": [],
   "source": [
    "D_MODEL = 768\n",
    "ENCODER_BLOCKS_NUMBER = 12\n",
    "DROPOUT_RATE = 0.3\n",
    "\n",
    "HEADS_NUMBER = 12\n",
    "FEED_FORWARD_HIDDEN_SIZE = D_MODEL * 4"
   ]
  },
  {
   "cell_type": "code",
   "execution_count": 3,
   "metadata": {},
   "outputs": [],
   "source": [
    "encoder_blocks = []\n",
    "\n",
    "for _ in range(ENCODER_BLOCKS_NUMBER): \n",
    "    multihead_attention = MultiHeadAttention(D_MODEL, HEADS_NUMBER, DROPOUT_RATE)\n",
    "    feed_forward_block = FeedForwardBlock(D_MODEL, FEED_FORWARD_HIDDEN_SIZE, DROPOUT_RATE)\n",
    "    \n",
    "    encoder_block = EncoderBlock(multihead_attention, feed_forward_block, DROPOUT_RATE)\n",
    "    \n",
    "    encoder_blocks.append(encoder_block)\n",
    "    \n",
    "encoder_blocks = nn.ModuleList(encoder_blocks)"
   ]
  },
  {
   "cell_type": "code",
   "execution_count": 4,
   "metadata": {},
   "outputs": [],
   "source": [
    "encoder = Encoder(encoder_blocks)"
   ]
  },
  {
   "cell_type": "code",
   "execution_count": 7,
   "metadata": {},
   "outputs": [
    {
     "data": {
      "text/plain": [
       "===============================================================================================\n",
       "Layer (type:depth-idx)                        Output Shape              Param #\n",
       "===============================================================================================\n",
       "Encoder                                       [15, 256, 768]            --\n",
       "├─ModuleList: 1-1                             --                        --\n",
       "│    └─EncoderBlock: 2-1                      [15, 256, 768]            7,084,804\n",
       "│    └─EncoderBlock: 2-2                      [15, 256, 768]            7,084,804\n",
       "│    └─EncoderBlock: 2-3                      [15, 256, 768]            7,084,804\n",
       "│    └─EncoderBlock: 2-4                      [15, 256, 768]            7,084,804\n",
       "│    └─EncoderBlock: 2-5                      [15, 256, 768]            7,084,804\n",
       "│    └─EncoderBlock: 2-6                      [15, 256, 768]            7,084,804\n",
       "│    └─EncoderBlock: 2-7                      [15, 256, 768]            7,084,804\n",
       "│    └─EncoderBlock: 2-8                      [15, 256, 768]            7,084,804\n",
       "│    └─EncoderBlock: 2-9                      [15, 256, 768]            7,084,804\n",
       "│    └─EncoderBlock: 2-10                     [15, 256, 768]            7,084,804\n",
       "│    └─EncoderBlock: 2-11                     [15, 256, 768]            7,084,804\n",
       "│    └─EncoderBlock: 2-12                     [15, 256, 768]            7,084,804\n",
       "├─LayerNorm: 1-2                              [15, 256, 768]            2\n",
       "===============================================================================================\n",
       "Total params: 85,017,650\n",
       "Trainable params: 85,017,650\n",
       "Non-trainable params: 0\n",
       "Total mult-adds (Units.GIGABYTES): 1.28\n",
       "===============================================================================================\n",
       "Input size (MB): 11.80\n",
       "Forward/backward pass size (MB): 3137.86\n",
       "Params size (MB): 340.07\n",
       "Estimated Total Size (MB): 3489.73\n",
       "==============================================================================================="
      ]
     },
     "execution_count": 7,
     "metadata": {},
     "output_type": "execute_result"
    }
   ],
   "source": [
    "torchinfo.summary(encoder, (15, 256, D_MODEL), device='cpu', depth=2)"
   ]
  }
 ],
 "metadata": {
  "kernelspec": {
   "display_name": "venv",
   "language": "python",
   "name": "python3"
  },
  "language_info": {
   "codemirror_mode": {
    "name": "ipython",
    "version": 3
   },
   "file_extension": ".py",
   "mimetype": "text/x-python",
   "name": "python",
   "nbconvert_exporter": "python",
   "pygments_lexer": "ipython3",
   "version": "3.12.7"
  }
 },
 "nbformat": 4,
 "nbformat_minor": 2
}

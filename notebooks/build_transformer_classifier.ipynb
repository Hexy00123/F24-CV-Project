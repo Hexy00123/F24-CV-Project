{
 "cells": [
  {
   "cell_type": "code",
   "execution_count": 1,
   "metadata": {},
   "outputs": [],
   "source": [
    "import sys\n",
    "import os\n",
    "\n",
    "sys.path.append(os.path.join(os.getcwd(), \"..\"))\n",
    "\n",
    "\n",
    "import torch\n",
    "import torch.nn as nn\n",
    "import torchinfo\n",
    "from tqdm.notebook import tqdm \n",
    "\n",
    "from torchvision.datasets import CIFAR10\n",
    "\n",
    "from vision_transformer.VisionTransformer import ViT"
   ]
  },
  {
   "cell_type": "code",
   "execution_count": 2,
   "metadata": {},
   "outputs": [],
   "source": [
    "class TransformerClassifier(nn.Module): \n",
    "    def __init__(self, n_classes, img_size: int, patch_size: int, in_channels: int): \n",
    "        super().__init__()\n",
    "        \n",
    "        self.vit = ViT(img_size=img_size, patch_size=patch_size, in_channels=in_channels)\n",
    "\n",
    "        self.classifier = nn.Sequential(\n",
    "            nn.Linear(self.vit.d_model, self.vit.d_model//2), \n",
    "            nn.ReLU(), \n",
    "            \n",
    "            nn.Linear(self.vit.d_model // 2, n_classes), \n",
    "            nn.ReLU(),\n",
    "        )\n",
    "        \n",
    "    def forward(self, x): \n",
    "        embeddins = self.vit(x)\n",
    "        logits = self.classifier(embeddins)\n",
    "        \n",
    "        return logits"
   ]
  },
  {
   "cell_type": "code",
   "execution_count": 3,
   "metadata": {},
   "outputs": [],
   "source": [
    "classifier = TransformerClassifier(n_classes=10, img_size=32, patch_size=4, in_channels=3)"
   ]
  },
  {
   "cell_type": "code",
   "execution_count": 4,
   "metadata": {},
   "outputs": [
    {
     "data": {
      "text/plain": [
       "torch.Size([15, 10])"
      ]
     },
     "execution_count": 4,
     "metadata": {},
     "output_type": "execute_result"
    }
   ],
   "source": [
    "classifier(torch.rand(15, 3, 32, 32)).shape"
   ]
  }
 ],
 "metadata": {
  "kernelspec": {
   "display_name": "venv",
   "language": "python",
   "name": "python3"
  },
  "language_info": {
   "codemirror_mode": {
    "name": "ipython",
    "version": 3
   },
   "file_extension": ".py",
   "mimetype": "text/x-python",
   "name": "python",
   "nbconvert_exporter": "python",
   "pygments_lexer": "ipython3",
   "version": "3.12.7"
  }
 },
 "nbformat": 4,
 "nbformat_minor": 2
}
